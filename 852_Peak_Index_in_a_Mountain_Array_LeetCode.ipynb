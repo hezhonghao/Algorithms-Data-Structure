{
  "nbformat": 4,
  "nbformat_minor": 0,
  "metadata": {
    "colab": {
      "provenance": []
    },
    "kernelspec": {
      "name": "python3",
      "display_name": "Python 3"
    },
    "language_info": {
      "name": "python"
    }
  },
  "cells": [
    {
      "cell_type": "markdown",
      "source": [
        "https://leetcode.com/problems/peak-index-in-a-mountain-array/"
      ],
      "metadata": {
        "id": "uKDUbsNwA_8x"
      }
    },
    {
      "cell_type": "code",
      "execution_count": null,
      "metadata": {
        "id": "BpsTCsbT4EVK"
      },
      "outputs": [],
      "source": []
    },
    {
      "cell_type": "code",
      "source": [
        "# binary search solution\n",
        "class Solution:\n",
        "    def peakIndexInMountainArray(self, arr: List[int]) -> int:\n",
        "        left, right = 0, len(arr)-1\n",
        "        while left < right:\n",
        "            mid = (right+left) // 2 # it returns mid idx for odd num and left-mid idx for even num\n",
        "            if arr[mid] < arr[mid+1]: # peak is on the right\n",
        "                left = mid + 1 # 2nd half\n",
        "            else:   # peak is on the left\n",
        "                right = mid\n",
        "        return left\n",
        "\n",
        "\n",
        "        '''\n",
        "        Binary search solution\n",
        "        Steps:\n",
        "        1/ you need a while loop and two pointers (left and right) to narrow down the search space\n",
        "        2/ for each round, you divide the arr into two and find the subarray for further peak element hunting\n",
        "        3/ you return idx of **original arr** when you find peak element (left or right since they converge anyway)\n",
        "        '''"
      ],
      "metadata": {
        "id": "ZF07UMNK-eKM"
      },
      "execution_count": null,
      "outputs": []
    },
    {
      "cell_type": "code",
      "source": [
        "# Recursive solution - wrong because the program returns an idx of subarray, not the original array\n",
        "class Solution:\n",
        "    def peakIndexInMountainArray(self, arr: List[int]) -> int:\n",
        "        # find the middle of array\n",
        "        i = len(arr) // 2 if len(arr) % 2 == 1 else len(arr) // 2 - 1 # for a binary search you start from the middle (left mid for even numb)\n",
        "        # baseline condition (exit)\n",
        "        if arr[i] > arr[i-1] and arr[i] > arr[i+1]:\n",
        "            return i\n",
        "        new_lst = arr[:i+1] if arr[i-1] > arr[i+1] else arr[i:]\n",
        "        return self.peakIndexInMountainArray(arr=new_lst)\n",
        "\n",
        "\n",
        "\n",
        "\n",
        "        '''\n",
        "        Notes:\n",
        "        1/ 我好像不会写binear search，我只会写一步而已。但只有每一步都binary search才有O(log(n))，否则只是n/2\n",
        "        2/ recursive program好像有些问题，因为这个program只要求一个输出，但是recursive会有好多层。maybe嵌套recursion才对。嵌套可能有些麻烦了。我发现我对recursion的理解还是不完善，尤其是return一次和多次的区别。\n",
        "        '''"
      ],
      "metadata": {
        "id": "dGn3pt694H78"
      },
      "execution_count": null,
      "outputs": []
    },
    {
      "cell_type": "code",
      "source": [
        "# Correct recursive solution that offset the index change\n",
        "class Solution:\n",
        "    def peakIndexInMountainArray(self, arr: list[int], offset: int = 0) -> int:\n",
        "        # Find the middle of the array\n",
        "        i = len(arr) // 2 if len(arr) % 2 == 1 else len(arr) // 2 - 1\n",
        "\n",
        "        # Base condition: if the middle element is the peak\n",
        "        if arr[i] > arr[i - 1] and arr[i] > arr[i + 1]:\n",
        "            return i + offset  # Add the offset to return the index in the original array\n",
        "\n",
        "        # If the left neighbor is greater, search the left side\n",
        "        if arr[i - 1] > arr[i + 1]:\n",
        "            new_lst = arr[:i+1]\n",
        "            return self.peakIndexInMountainArray(new_lst, offset)  # Pass current offset (no change)\n",
        "\n",
        "        # Otherwise, search the right side and adjust the offset\n",
        "        new_lst = arr[i:]\n",
        "        return self.peakIndexInMountainArray(new_lst, offset + i)  # Update offset by adding i\n"
      ],
      "metadata": {
        "id": "weKHtMHe-mO7"
      },
      "execution_count": null,
      "outputs": []
    },
    {
      "cell_type": "code",
      "source": [
        " # Monte Carlo Methods\n",
        "# NEP it's not a good solution because in theory in could run forever so not efficient.\n",
        "# But it demonstrates monte carlo methods's benefit of using randomization to guide the search\n",
        "# when the search is too large for other methods to exhaustively explore.\n",
        " class Solution:\n",
        "    def peakIndexInMountainArray(self, arr: List[int]) -> int:\n",
        "        \"\"\"\n",
        "        :type arr: List[int]\n",
        "        :rtype: int\n",
        "        \"\"\"\n",
        "        if arr[0]>arr[1]:\n",
        "                return arr[0]\n",
        "        elif arr[len(arr)-1]>arr[len(arr)-2]:\n",
        "                return arr[len(arr)-1]\n",
        "        else:\n",
        "            while 1:\n",
        "                a = randint(1,len(arr)-1)\n",
        "                if arr[a-1]<arr[a] and arr[a+1]<arr[a]:\n",
        "                    return a"
      ],
      "metadata": {
        "id": "rkvvgMSsDWKm"
      },
      "execution_count": null,
      "outputs": []
    }
  ]
}