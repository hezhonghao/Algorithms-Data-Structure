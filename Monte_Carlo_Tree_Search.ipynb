{
  "nbformat": 4,
  "nbformat_minor": 0,
  "metadata": {
    "colab": {
      "provenance": []
    },
    "kernelspec": {
      "name": "python3",
      "display_name": "Python 3"
    },
    "language_info": {
      "name": "python"
    }
  },
  "cells": [
    {
      "cell_type": "markdown",
      "source": [
        "Oct 17 - Work in progress"
      ],
      "metadata": {
        "id": "yLGOO2DqyQDp"
      }
    },
    {
      "cell_type": "markdown",
      "source": [
        "MCTS\n",
        "What is it for?\n",
        "- To create a tree structure search algorithm that balances depth and breadth (exploitation and exploration)\n",
        "\n",
        "\n",
        "How it works?\n",
        "- Each node should be a value the agents get by traversing to that node, whatever value that can be.\n",
        "- When traveling to each node, you simulate the expected returns of current path and compare it with other paths there are.\n",
        "- You should probably estimate current resources, too, and estimate the end return\n",
        "- The resources and rewards may or may not be the same thing. Likely you may gain resources as rewards, but very likely they are different things.\n",
        "- The final result is to pick up a path with largest expected return, before the resources run out, or you use as little resources as possible.\n",
        "-\n",
        "\n",
        "Where things may get tricky?\n",
        "- It seems MCTS is computationally demanding\n",
        "-\n",
        "\n",
        "Why does it even work in many applications?\n",
        "-\n",
        "- Computation would not be a limitation for employijng such strategy in reality. In other words, simulation and computation enable calculaton of best strategy."
      ],
      "metadata": {
        "id": "Rz3MGzzootrP"
      }
    },
    {
      "cell_type": "code",
      "execution_count": null,
      "metadata": {
        "id": "B7mVNk2-lqhi"
      },
      "outputs": [],
      "source": [
        "# Pseudocode for MCTS\n",
        "class MCTS():\n",
        "\n",
        "  def resource_monitor():   # it's called every time the agent makes a move.\n",
        "    if resources ==0:\n",
        "      return \"Game Over\"\n",
        "    resource -= 1\n",
        "  def"
      ]
    }
  ]
}